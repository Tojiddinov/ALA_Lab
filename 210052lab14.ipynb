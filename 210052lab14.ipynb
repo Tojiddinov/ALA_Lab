{
  "nbformat": 4,
  "nbformat_minor": 0,
  "metadata": {
    "colab": {
      "provenance": [],
      "authorship_tag": "ABX9TyP26UYt5nh3TpoLjZMqBnJP",
      "include_colab_link": true
    },
    "kernelspec": {
      "name": "python3",
      "display_name": "Python 3"
    },
    "language_info": {
      "name": "python"
    }
  },
  "cells": [
    {
      "cell_type": "markdown",
      "metadata": {
        "id": "view-in-github",
        "colab_type": "text"
      },
      "source": [
        "<a href=\"https://colab.research.google.com/github/Tojiddinov/ALA_Lab/blob/main/210052lab14.ipynb\" target=\"_parent\"><img src=\"https://colab.research.google.com/assets/colab-badge.svg\" alt=\"Open In Colab\"/></a>"
      ]
    },
    {
      "cell_type": "code",
      "execution_count": 1,
      "metadata": {
        "colab": {
          "base_uri": "https://localhost:8080/"
        },
        "id": "nnGdiF1IerDW",
        "outputId": "5781a40a-970c-42bb-ca35-e1f2d44e8da7"
      },
      "outputs": [
        {
          "output_type": "stream",
          "name": "stdout",
          "text": [
            "Is the assembled matrix symmetric? True\n",
            "Eigenvalues of the assembled matrix:\n",
            " [1. 4. 2. 3.]\n",
            "Diagonal entries of lambda_matrix:\n",
            " [1 2 3 4]\n"
          ]
        }
      ],
      "source": [
        "import numpy as np\n",
        "\n",
        "\n",
        "diag_vals = np.array([1, 2, 3, 4])\n",
        "D = np.diag(diag_vals)\n",
        "\n",
        "\n",
        "A = np.random.rand(4, 4)\n",
        "Q, R = np.linalg.qr(A)\n",
        "\n",
        "\n",
        "X = Q\n",
        "X_inv = np.linalg.inv(Q)\n",
        "\n",
        "\n",
        "lambda_matrix = D\n",
        "\n",
        "\n",
        "A_assembled = X @ lambda_matrix @ X_inv\n",
        "\n",
        "\n",
        "is_symmetric = np.allclose(A_assembled, A_assembled.T)\n",
        "print(\"Is the assembled matrix symmetric?\", is_symmetric)\n",
        "\n",
        "eig_vals, eig_vecs = np.linalg.eig(A_assembled)\n",
        "\n",
        "print(\"Eigenvalues of the assembled matrix:\\n\", eig_vals)\n",
        "print(\"Diagonal entries of lambda_matrix:\\n\", np.diag(lambda_matrix))\n"
      ]
    },
    {
      "cell_type": "code",
      "source": [
        "import numpy as np\n",
        "import matplotlib.pyplot as plt\n",
        "\n",
        "np.random.seed(123)\n",
        "A = np.random.rand(4, 3)\n",
        "\n",
        "\n",
        "U, s, Vt = np.linalg.svd(A)\n",
        "\n",
        "\n",
        "S = np.zeros_like(A)\n",
        "S[:min(A.shape), :min(A.shape)] = np.diag(s)\n",
        "\n",
        "\n",
        "fig, axs = plt.subplots(2, 3)\n",
        "\n",
        "axs[0, 0].imshow(A, cmap='gray')\n",
        "axs[0, 0].set_title('A')\n",
        "\n",
        "axs[0, 1].imshow(U, cmap='gray')\n",
        "axs[0, 1].set_title('U')\n",
        "\n",
        "axs[0, 2].imshow(S, cmap='gray')\n",
        "axs[0, 2].set_title('S')\n",
        "\n",
        "axs[1, 1].imshow(np.diag(s), cmap='gray')\n",
        "axs[1, 1].set_title('sigma')\n",
        "\n",
        "axs[1, 2].imshow(Vt, cmap='gray')\n",
        "axs[1, 2].set_title('V^T')\n",
        "\n",
        "\n",
        "for ax in axs.flat:\n",
        "    ax.set_xticks([])\n",
        "    ax.set_yticks([])\n",
        "\n",
        "axs[1, 0].axis('off')\n",
        "plt.show()\n"
      ],
      "metadata": {
        "colab": {
          "base_uri": "https://localhost:8080/",
          "height": 428
        },
        "id": "M-cLRa4He2qE",
        "outputId": "4e6fc027-d06c-4f4e-a9cc-3b7277725f9e"
      },
      "execution_count": 2,
      "outputs": [
        {
          "output_type": "display_data",
          "data": {
            "text/plain": [
              "<Figure size 640x480 with 6 Axes>"
            ],
            "image/png": "[encoded data removed]"
          },
          "metadata": {}
        }
      ]
    },
    {
      "cell_type": "code",
      "source": [
        "\n",
        "\n",
        "\n",
        "np.random.seed(123)\n",
        "A = np.random.rand(5, 3)\n",
        "\n",
        "\n",
        "S = A.T @ A\n",
        "\n",
        "\n",
        "U, Sigma, Vt = np.linalg.svd(S)\n",
        "\n",
        "T1 = Vt.T @ np.diag(Sigma) @ U.T\n",
        "print(\"T1 =\\n\", T1)\n",
        "\n",
        "T2 = U @ np.diag(Sigma) @ U.T\n",
        "print(\"T2 =\\n\", T2)\n",
        "\n",
        "T3 = Vt.T @ np.diag(Sigma) @ Vt\n",
        "print(\"T3 =\\n\", T3)\n"
      ],
      "metadata": {
        "colab": {
          "base_uri": "https://localhost:8080/"
        },
        "id": "ysBdzILhfLHc",
        "outputId": "dc7e15b0-1891-48e2-ef85-d08ad1bc4225"
      },
      "execution_count": 4,
      "outputs": [
        {
          "output_type": "stream",
          "name": "stdout",
          "text": [
            "T1 =\n",
            " [[2.09701748 1.42833677 1.323385  ]\n",
            " [1.42833677 1.18983569 0.97262784]\n",
            " [1.323385   0.97262784 1.15172886]]\n",
            "T2 =\n",
            " [[2.09701748 1.42833677 1.323385  ]\n",
            " [1.42833677 1.18983569 0.97262784]\n",
            " [1.323385   0.97262784 1.15172886]]\n",
            "T3 =\n",
            " [[2.09701748 1.42833677 1.323385  ]\n",
            " [1.42833677 1.18983569 0.97262784]\n",
            " [1.323385   0.97262784 1.15172886]]\n"
          ]
        }
      ]
    },
    {
      "cell_type": "code",
      "source": [
        "\n",
        "np.random.seed(123)\n",
        "S = np.random.rand(5, 5)\n",
        "S = S.T @ S\n",
        "\n",
        "\n",
        "U_svd, sigma_svd, Vt_svd = np.linalg.svd(S)\n",
        "\n",
        "eigenvals, eigenvecs = np.linalg.eig(S)\n",
        "\n",
        "\n",
        "print(\"Are the left singular vectors equal to the eigenvectors for S?\",\n",
        "      np.allclose(U_svd, eigenvecs))\n",
        "print(\"Are the right singular vectors equal to the eigenvectors for S?\",\n",
        "      np.allclose(Vt_svd.T, eigenvecs))\n"
      ],
      "metadata": {
        "colab": {
          "base_uri": "https://localhost:8080/"
        },
        "id": "oaNrpuuEgJPF",
        "outputId": "d867d112-628c-40ac-ba1c-810fd0b5cd3c"
      },
      "execution_count": 10,
      "outputs": [
        {
          "output_type": "stream",
          "name": "stdout",
          "text": [
            "Are the left singular vectors equal to the eigenvectors for S? False\n",
            "Are the right singular vectors equal to the eigenvectors for S? False\n"
          ]
        }
      ]
    },
    {
      "cell_type": "code",
      "source": [
        "\n",
        "np.random.seed(123)\n",
        "A = np.random.rand(5, 3)\n",
        "w = np.random.rand(5)\n",
        "\n",
        "U, sigma, Vt = np.linalg.svd(A)\n",
        "\n",
        "\n",
        "w_norm = np.linalg.norm(w)\n",
        "Uw_norm = np.linalg.norm(U.T @ w)\n",
        "print(\"Norm of w:\", w_norm)\n",
        "print(\"Norm of Uw:\", Uw_norm)\n",
        "print(\"Are the norms equal?\", np.isclose(w_norm, Uw_norm))\n"
      ],
      "metadata": {
        "colab": {
          "base_uri": "https://localhost:8080/"
        },
        "id": "UBveLxdqhCQd",
        "outputId": "cd7d7c3b-18e6-4c22-f6a1-ea8c8594e0be"
      },
      "execution_count": 13,
      "outputs": [
        {
          "output_type": "stream",
          "name": "stdout",
          "text": [
            "Norm of w: 1.0835641258048203\n",
            "Norm of Uw: 1.0835641258048208\n",
            "Are the norms equal? True\n"
          ]
        }
      ]
    }
  ]
}