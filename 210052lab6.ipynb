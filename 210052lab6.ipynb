{
  "nbformat": 4,
  "nbformat_minor": 0,
  "metadata": {
    "colab": {
      "provenance": [],
      "authorship_tag": "ABX9TyMJLaoVyw5e0wY2hCHSJeei",
      "include_colab_link": true
    },
    "kernelspec": {
      "name": "python3",
      "display_name": "Python 3"
    },
    "language_info": {
      "name": "python"
    }
  },
  "cells": [
    {
      "cell_type": "markdown",
      "metadata": {
        "id": "view-in-github",
        "colab_type": "text"
      },
      "source": [
        "<a href=\"https://colab.research.google.com/github/Tojiddinov/ALA_Lab/blob/main/210052lab6.ipynb\" target=\"_parent\"><img src=\"https://colab.research.google.com/assets/colab-badge.svg\" alt=\"Open In Colab\"/></a>"
      ]
    },
    {
      "cell_type": "code",
      "execution_count": 13,
      "metadata": {
        "id": "tZle_dV9x6DC"
      },
      "outputs": [],
      "source": [
        "import numpy as np\n",
        "import matplotlib.pyplot as plt\n",
        "import math"
      ]
    },
    {
      "cell_type": "code",
      "source": [
        "# Generate random 10x10 matrix\n",
        "A = np.random.randint(10, size=(10, 10))\n",
        "\n",
        "# Calculate the transpose of A\n",
        "A_T = np.transpose(A)\n",
        "\n",
        "# Calculate the product of A_T and A\n",
        "ATA = np.dot(A_T, A)\n",
        "\n",
        "# Calculate the trace of ATA\n",
        "trace = np.trace(ATA)\n",
        "\n",
        "# Calculate the norm using ptr(AT A)\n",
        "norm = np.sqrt(trace)\n",
        "\n",
        "print(norm)"
      ],
      "metadata": {
        "colab": {
          "base_uri": "https://localhost:8080/"
        },
        "id": "q3i0elETx7Oa",
        "outputId": "543d95af-cf19-47b7-e7cd-88048054226c"
      },
      "execution_count": 17,
      "outputs": [
        {
          "output_type": "stream",
          "name": "stdout",
          "text": [
            "48.91829923454004\n"
          ]
        }
      ]
    },
    {
      "cell_type": "code",
      "source": [
        "def calculate_determinant(matrix):\n",
        "    n = matrix.shape[0]\n",
        "    det = 1\n",
        "    for j in range(n):\n",
        "        max_row = j\n",
        "        for i in range(j+1, n):\n",
        "            if abs(matrix[i,j]) > abs(matrix[max_row,j]):\n",
        "                max_row = i\n",
        "        if max_row != j:\n",
        "            matrix[[j,max_row],:] = matrix[[max_row,j],:]\n",
        "            det *= -1\n",
        "        for i in range(j+1, n):\n",
        "            factor = matrix[i,j] / matrix[j,j]\n",
        "            matrix[i,:] -= factor * matrix[j,:]\n",
        "        det *= matrix[j,j]\n",
        "    return det\n",
        "\n",
        "# Test the function with a random matrix\n",
        "A = np.random.rand(5,5)\n",
        "det = calculate_determinant(A)\n",
        "print(f\"The determinant of A is {det}\")\n",
        "print(f\"The determinant of A calculated using numpy.linalg.det is {np.linalg.det(A)}\")"
      ],
      "metadata": {
        "colab": {
          "base_uri": "https://localhost:8080/"
        },
        "id": "FWlghwQA-BnD",
        "outputId": "10ca84ec-d545-48b3-e287-6ca9df8f1a95"
      },
      "execution_count": 16,
      "outputs": [
        {
          "output_type": "stream",
          "name": "stdout",
          "text": [
            "The determinant of A is -0.11558859543404085\n",
            "The determinant of A calculated using numpy.linalg.det is -0.11558859543404086\n"
          ]
        }
      ]
    },
    {
      "cell_type": "code",
      "source": [
        "\n",
        "\n",
        "def determinant_recursive(A, total=0):\n",
        "    # Section 1: store indices in list for row referencing\n",
        "    indices = list(range(len(A)))\n",
        "     \n",
        "    # Section 2: when at 2x2 submatrices recursive calls end\n",
        "    if len(A) == 2 and len(A[0]) == 2:\n",
        "        val = A[0][0] * A[1][1] - A[1][0] * A[0][1]\n",
        "        return val\n",
        " \n",
        "    # Section 3: define submatrix for focus column and \n",
        "    #      call this function\n",
        "    for fc in indices: # A) for each focus column, ...\n",
        "        # find the submatrix ...\n",
        "        As = copy_matrix(A) # B) make a copy, and ...\n",
        "        As = As[1:] # ... C) remove the first row\n",
        "        height = len(As) # D) \n",
        " \n",
        "        for i in range(height): \n",
        "            # E) for each remaining row of submatrix ...\n",
        "            #     remove the focus column elements\n",
        "            As[i] = As[i][0:fc] + As[i][fc+1:] \n",
        " \n",
        "        sign = (-1) ** (fc % 2) # F) \n",
        "        # G) pass submatrix recursively\n",
        "        sub_det = determinant_recursive(As)\n",
        "        # H) total all returns from recursion\n",
        "        total += sign * A[0][fc] * sub_det \n",
        " \n",
        "    return total"
      ],
      "metadata": {
        "id": "_v42fVsH5rZq"
      },
      "execution_count": 19,
      "outputs": []
    }
  ]
}